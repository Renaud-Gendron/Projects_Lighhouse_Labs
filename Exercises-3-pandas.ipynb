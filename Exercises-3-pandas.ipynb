{
 "cells": [
  {
   "cell_type": "code",
   "execution_count": 1,
   "metadata": {},
   "outputs": [],
   "source": [
    "import pandas as pd"
   ]
  },
  {
   "cell_type": "markdown",
   "metadata": {},
   "source": [
    "### Connect Pandas to the database with this URL: "
   ]
  },
  {
   "cell_type": "code",
   "execution_count": 2,
   "metadata": {},
   "outputs": [
    {
     "data": {
      "text/html": [
       "<div>\n",
       "<style scoped>\n",
       "    .dataframe tbody tr th:only-of-type {\n",
       "        vertical-align: middle;\n",
       "    }\n",
       "\n",
       "    .dataframe tbody tr th {\n",
       "        vertical-align: top;\n",
       "    }\n",
       "\n",
       "    .dataframe thead th {\n",
       "        text-align: right;\n",
       "    }\n",
       "</style>\n",
       "<table border=\"1\" class=\"dataframe\">\n",
       "  <thead>\n",
       "    <tr style=\"text-align: right;\">\n",
       "      <th></th>\n",
       "      <th>title</th>\n",
       "      <th>year</th>\n",
       "    </tr>\n",
       "  </thead>\n",
       "  <tbody>\n",
       "    <tr>\n",
       "      <th>0</th>\n",
       "      <td>The Rising Son</td>\n",
       "      <td>1990</td>\n",
       "    </tr>\n",
       "    <tr>\n",
       "      <th>1</th>\n",
       "      <td>The Thousand Plane Raid</td>\n",
       "      <td>1969</td>\n",
       "    </tr>\n",
       "    <tr>\n",
       "      <th>2</th>\n",
       "      <td>Crucea de piatra</td>\n",
       "      <td>1993</td>\n",
       "    </tr>\n",
       "    <tr>\n",
       "      <th>3</th>\n",
       "      <td>Country</td>\n",
       "      <td>2000</td>\n",
       "    </tr>\n",
       "    <tr>\n",
       "      <th>4</th>\n",
       "      <td>Gaiking II</td>\n",
       "      <td>2011</td>\n",
       "    </tr>\n",
       "  </tbody>\n",
       "</table>\n",
       "</div>"
      ],
      "text/plain": [
       "                     title  year\n",
       "0           The Rising Son  1990\n",
       "1  The Thousand Plane Raid  1969\n",
       "2         Crucea de piatra  1993\n",
       "3                  Country  2000\n",
       "4               Gaiking II  2011"
      ]
     },
     "execution_count": 2,
     "metadata": {},
     "output_type": "execute_result"
    }
   ],
   "source": [
    "titles = pd.read_csv(r'C:\\Users\\client\\Documents\\titles.csv')\n",
    "titles.head()"
   ]
  },
  {
   "cell_type": "code",
   "execution_count": 3,
   "metadata": {},
   "outputs": [
    {
     "data": {
      "text/html": [
       "<div>\n",
       "<style scoped>\n",
       "    .dataframe tbody tr th:only-of-type {\n",
       "        vertical-align: middle;\n",
       "    }\n",
       "\n",
       "    .dataframe tbody tr th {\n",
       "        vertical-align: top;\n",
       "    }\n",
       "\n",
       "    .dataframe thead th {\n",
       "        text-align: right;\n",
       "    }\n",
       "</style>\n",
       "<table border=\"1\" class=\"dataframe\">\n",
       "  <thead>\n",
       "    <tr style=\"text-align: right;\">\n",
       "      <th></th>\n",
       "      <th>title</th>\n",
       "      <th>year</th>\n",
       "      <th>name</th>\n",
       "      <th>type</th>\n",
       "      <th>character</th>\n",
       "      <th>n</th>\n",
       "    </tr>\n",
       "  </thead>\n",
       "  <tbody>\n",
       "    <tr>\n",
       "      <th>0</th>\n",
       "      <td>Closet Monster</td>\n",
       "      <td>2015</td>\n",
       "      <td>Buffy #1</td>\n",
       "      <td>actor</td>\n",
       "      <td>Buffy 4</td>\n",
       "      <td>NaN</td>\n",
       "    </tr>\n",
       "    <tr>\n",
       "      <th>1</th>\n",
       "      <td>Suuri illusioni</td>\n",
       "      <td>1985</td>\n",
       "      <td>Homo $</td>\n",
       "      <td>actor</td>\n",
       "      <td>Guests</td>\n",
       "      <td>22.0</td>\n",
       "    </tr>\n",
       "    <tr>\n",
       "      <th>2</th>\n",
       "      <td>Battle of the Sexes</td>\n",
       "      <td>2017</td>\n",
       "      <td>$hutter</td>\n",
       "      <td>actor</td>\n",
       "      <td>Bobby Riggs Fan</td>\n",
       "      <td>10.0</td>\n",
       "    </tr>\n",
       "    <tr>\n",
       "      <th>3</th>\n",
       "      <td>Secret in Their Eyes</td>\n",
       "      <td>2015</td>\n",
       "      <td>$hutter</td>\n",
       "      <td>actor</td>\n",
       "      <td>2002 Dodger Fan</td>\n",
       "      <td>NaN</td>\n",
       "    </tr>\n",
       "    <tr>\n",
       "      <th>4</th>\n",
       "      <td>Steve Jobs</td>\n",
       "      <td>2015</td>\n",
       "      <td>$hutter</td>\n",
       "      <td>actor</td>\n",
       "      <td>1988 Opera House Patron</td>\n",
       "      <td>NaN</td>\n",
       "    </tr>\n",
       "  </tbody>\n",
       "</table>\n",
       "</div>"
      ],
      "text/plain": [
       "                  title  year      name   type                character     n\n",
       "0        Closet Monster  2015  Buffy #1  actor                  Buffy 4   NaN\n",
       "1       Suuri illusioni  1985    Homo $  actor                   Guests  22.0\n",
       "2   Battle of the Sexes  2017   $hutter  actor          Bobby Riggs Fan  10.0\n",
       "3  Secret in Their Eyes  2015   $hutter  actor          2002 Dodger Fan   NaN\n",
       "4            Steve Jobs  2015   $hutter  actor  1988 Opera House Patron   NaN"
      ]
     },
     "execution_count": 3,
     "metadata": {},
     "output_type": "execute_result"
    }
   ],
   "source": [
    "cast = pd.read_csv(r'C:\\Users\\client\\Documents\\cast.csv')\n",
    "cast.head()"
   ]
  },
  {
   "cell_type": "markdown",
   "metadata": {},
   "source": [
    "### Using groupby(), count the number of films that have been released each decade in the history of cinema."
   ]
  },
  {
   "cell_type": "code",
   "execution_count": 4,
   "metadata": {},
   "outputs": [
    {
     "data": {
      "text/plain": [
       "column_name  title                                         \n",
       "189.0        Miss Jerry                                        1\n",
       "             Reproduction of the Corbett and Jeffries Fight    1\n",
       "             The Startled Lover                                1\n",
       "190.0        Amleto                                            1\n",
       "             Andreas Hofer                                     1\n",
       "                                                              ..\n",
       "202.0        War in Snow                                       1\n",
       "             Wee and the Wright Brothers                       1\n",
       "             Wingman                                           1\n",
       "             Xenomorph                                         1\n",
       "             Your Choice: Hot or Not                           1\n",
       "Name: title, Length: 227641, dtype: int64"
      ]
     },
     "execution_count": 4,
     "metadata": {},
     "output_type": "execute_result"
    }
   ],
   "source": [
    "titles.loc[(titles['year']>=1890) & (titles['year']<1900), 'column_name'] = 189\n",
    "titles.loc[(titles['year']>=1900) & (titles['year']<1910), 'column_name'] = 190\n",
    "titles.loc[(titles['year']>=1910) & (titles['year']<1920), 'column_name'] = 191\n",
    "titles.loc[(titles['year']>=1920) & (titles['year']<1930), 'column_name'] = 192\n",
    "titles.loc[(titles['year']>=1930) & (titles['year']<1940), 'column_name'] = 193\n",
    "titles.loc[(titles['year']>=1940) & (titles['year']<1950), 'column_name'] = 194\n",
    "titles.loc[(titles['year']>=1950) & (titles['year']<1960), 'column_name'] = 195\n",
    "titles.loc[(titles['year']>=1960) & (titles['year']<1970), 'column_name'] = 196\n",
    "titles.loc[(titles['year']>=1970) & (titles['year']<1980), 'column_name'] = 197\n",
    "titles.loc[(titles['year']>=1980) & (titles['year']<1990), 'column_name'] = 198\n",
    "titles.loc[(titles['year']>=1990) & (titles['year']<2000), 'column_name'] = 199\n",
    "titles.loc[(titles['year']>=2000) & (titles['year']<2010), 'column_name'] = 200\n",
    "titles.loc[(titles['year']>=2010) & (titles['year']<2020), 'column_name'] = 201\n",
    "titles.loc[(titles['year']>=2020) & (titles['year']<2030), 'column_name'] = 202\n",
    "\n",
    "titles.groupby('column_name')['title'].value_counts()"
   ]
  },
  {
   "cell_type": "markdown",
   "metadata": {},
   "source": [
    "### Use groupby() count the number of \"Hamlet\" films made each decade."
   ]
  },
  {
   "cell_type": "code",
   "execution_count": 5,
   "metadata": {},
   "outputs": [
    {
     "data": {
      "text/plain": [
       "column_name  title \n",
       "191.0        Hamlet    3\n",
       "192.0        Hamlet    1\n",
       "194.0        Hamlet    1\n",
       "195.0        Hamlet    1\n",
       "196.0        Hamlet    2\n",
       "197.0        Hamlet    2\n",
       "198.0        Hamlet    1\n",
       "199.0        Hamlet    2\n",
       "200.0        Hamlet    2\n",
       "201.0        Hamlet    3\n",
       "Name: title, dtype: int64"
      ]
     },
     "execution_count": 5,
     "metadata": {},
     "output_type": "execute_result"
    }
   ],
   "source": [
    "titles1=titles[titles['title']=='Hamlet']\n",
    "titles1.groupby('column_name')['title'].value_counts()"
   ]
  },
  {
   "cell_type": "markdown",
   "metadata": {},
   "source": [
    "### How many leading (n=1) roles were available to actors, and how many to actresses, in each year of the 1950s?"
   ]
  },
  {
   "cell_type": "code",
   "execution_count": 6,
   "metadata": {},
   "outputs": [
    {
     "data": {
      "text/plain": [
       "year  type   \n",
       "1950  actor      626\n",
       "      actress    281\n",
       "1951  actor      647\n",
       "      actress    281\n",
       "1952  actor      607\n",
       "      actress    293\n",
       "1953  actor      652\n",
       "      actress    301\n",
       "1954  actor      634\n",
       "      actress    310\n",
       "1955  actor      641\n",
       "      actress    281\n",
       "1956  actor      643\n",
       "      actress    305\n",
       "1957  actor      735\n",
       "      actress    301\n",
       "1958  actor      710\n",
       "      actress    295\n",
       "1959  actor      721\n",
       "      actress    317\n",
       "Name: type, dtype: int64"
      ]
     },
     "execution_count": 6,
     "metadata": {},
     "output_type": "execute_result"
    }
   ],
   "source": [
    "cast1=cast[cast['n']==1]\n",
    "cast2=cast1[cast1['year']>=1950]\n",
    "cast3=cast2[cast2['year']<=1959]\n",
    "cast3.groupby('year')['type'].value_counts()"
   ]
  },
  {
   "cell_type": "markdown",
   "metadata": {},
   "source": [
    "### In the 1950s decade taken as a whole, how many total roles were available to actors, and how many to actresses, for each \"n\" number 1 through 5?"
   ]
  },
  {
   "cell_type": "code",
   "execution_count": 7,
   "metadata": {},
   "outputs": [
    {
     "data": {
      "text/plain": [
       "type     n  \n",
       "actor    1.0    6616\n",
       "         5.0    5611\n",
       "         4.0    5594\n",
       "         3.0    5587\n",
       "         2.0    4564\n",
       "actress  2.0    4556\n",
       "         3.0    3148\n",
       "         1.0    2965\n",
       "         4.0    2849\n",
       "         5.0    2544\n",
       "Name: n, dtype: int64"
      ]
     },
     "execution_count": 7,
     "metadata": {},
     "output_type": "execute_result"
    }
   ],
   "source": [
    "cast1=cast[((cast['n']==1) | (cast['n']==2) | (cast['n']==3) | (cast['n']==4) | (cast['n']==5) ) & ((cast['year']>=1950) & (cast['year']<=1959))].groupby('type')['n'].value_counts()\n",
    "cast1\n"
   ]
  },
  {
   "cell_type": "markdown",
   "metadata": {},
   "source": [
    "### Use groupby() to determine how many roles are listed for each of the Pink Panther movies."
   ]
  },
  {
   "cell_type": "code",
   "execution_count": 19,
   "metadata": {},
   "outputs": [
    {
     "data": {
      "text/plain": [
       "title                           title                         \n",
       "Curse of the Pink Panther       Curse of the Pink Panther          67\n",
       "Revenge of the Pink Panther     Revenge of the Pink Panther        64\n",
       "Son of the Pink Panther         Son of the Pink Panther            46\n",
       "The Pink Panther                The Pink Panther                  111\n",
       "The Pink Panther 2              The Pink Panther 2                 84\n",
       "The Pink Panther Strikes Again  The Pink Panther Strikes Again     68\n",
       "The Return of the Pink Panther  The Return of the Pink Panther     30\n",
       "Trail of the Pink Panther       Trail of the Pink Panther          41\n",
       "Name: title, dtype: int64"
      ]
     },
     "execution_count": 19,
     "metadata": {},
     "output_type": "execute_result"
    }
   ],
   "source": [
    "cast1=cast[cast['title'].str.contains('Pink Panther')].groupby('title')['title'].value_counts()\n",
    "cast1"
   ]
  },
  {
   "cell_type": "markdown",
   "metadata": {},
   "source": [
    "### List, in order by year, each of the films in which Frank Oz has played more than 1 role."
   ]
  },
  {
   "cell_type": "code",
   "execution_count": 20,
   "metadata": {},
   "outputs": [
    {
     "data": {
      "text/plain": [
       "year  title                               \n",
       "1979  The Muppet Movie                        8\n",
       "1981  The Great Muppet Caper                  6\n",
       "      An American Werewolf in London          2\n",
       "1982  The Dark Crystal                        2\n",
       "1984  The Muppets Take Manhattan              7\n",
       "1985  Follow That Bird                        3\n",
       "1992  The Muppet Christmas Carol              7\n",
       "1996  Muppet Treasure Island                  4\n",
       "1999  Muppets from Space                      4\n",
       "      The Adventures of Elmo in Grouchland    3\n",
       "Name: title, dtype: int64"
      ]
     },
     "execution_count": 20,
     "metadata": {},
     "output_type": "execute_result"
    }
   ],
   "source": [
    "cast1=cast[cast['name']=='Frank Oz'].groupby('year')['title'].value_counts()\n",
    "cast1[cast1>1]"
   ]
  },
  {
   "cell_type": "markdown",
   "metadata": {},
   "source": [
    "### List each of the characters that Frank Oz has portrayed at least twice."
   ]
  },
  {
   "cell_type": "code",
   "execution_count": 21,
   "metadata": {},
   "outputs": [
    {
     "data": {
      "text/plain": [
       "Miss Piggy        6\n",
       "Animal            6\n",
       "Yoda              6\n",
       "Sam the Eagle     5\n",
       "Fozzie Bear       4\n",
       "Bert              3\n",
       "Cookie Monster    3\n",
       "Grover            2\n",
       "Name: character, dtype: int64"
      ]
     },
     "execution_count": 21,
     "metadata": {},
     "output_type": "execute_result"
    }
   ],
   "source": [
    "cast1=cast[cast['name']=='Frank Oz']['character'].value_counts()\n",
    "cast1[cast1>1]"
   ]
  }
 ],
 "metadata": {
  "kernelspec": {
   "display_name": "Python 3",
   "language": "python",
   "name": "python3"
  },
  "language_info": {
   "codemirror_mode": {
    "name": "ipython",
    "version": 3
   },
   "file_extension": ".py",
   "mimetype": "text/x-python",
   "name": "python",
   "nbconvert_exporter": "python",
   "pygments_lexer": "ipython3",
   "version": "3.8.3"
  }
 },
 "nbformat": 4,
 "nbformat_minor": 4
}
