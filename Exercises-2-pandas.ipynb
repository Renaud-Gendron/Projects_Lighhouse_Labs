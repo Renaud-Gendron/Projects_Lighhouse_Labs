{
 "cells": [
  {
   "cell_type": "code",
   "execution_count": 1,
   "metadata": {
    "jupyter": {
     "outputs_hidden": false
    }
   },
   "outputs": [],
   "source": [
    "import pandas as pd"
   ]
  },
  {
   "cell_type": "markdown",
   "metadata": {},
   "source": [
    "### Connect Pandas to the database with this URL: "
   ]
  },
  {
   "cell_type": "code",
   "execution_count": 2,
   "metadata": {
    "jupyter": {
     "outputs_hidden": false
    }
   },
   "outputs": [
    {
     "data": {
      "text/html": [
       "<div>\n",
       "<style scoped>\n",
       "    .dataframe tbody tr th:only-of-type {\n",
       "        vertical-align: middle;\n",
       "    }\n",
       "\n",
       "    .dataframe tbody tr th {\n",
       "        vertical-align: top;\n",
       "    }\n",
       "\n",
       "    .dataframe thead th {\n",
       "        text-align: right;\n",
       "    }\n",
       "</style>\n",
       "<table border=\"1\" class=\"dataframe\">\n",
       "  <thead>\n",
       "    <tr style=\"text-align: right;\">\n",
       "      <th></th>\n",
       "      <th>title</th>\n",
       "      <th>year</th>\n",
       "    </tr>\n",
       "  </thead>\n",
       "  <tbody>\n",
       "    <tr>\n",
       "      <th>0</th>\n",
       "      <td>The Rising Son</td>\n",
       "      <td>1990</td>\n",
       "    </tr>\n",
       "    <tr>\n",
       "      <th>1</th>\n",
       "      <td>The Thousand Plane Raid</td>\n",
       "      <td>1969</td>\n",
       "    </tr>\n",
       "    <tr>\n",
       "      <th>2</th>\n",
       "      <td>Crucea de piatra</td>\n",
       "      <td>1993</td>\n",
       "    </tr>\n",
       "    <tr>\n",
       "      <th>3</th>\n",
       "      <td>Country</td>\n",
       "      <td>2000</td>\n",
       "    </tr>\n",
       "    <tr>\n",
       "      <th>4</th>\n",
       "      <td>Gaiking II</td>\n",
       "      <td>2011</td>\n",
       "    </tr>\n",
       "  </tbody>\n",
       "</table>\n",
       "</div>"
      ],
      "text/plain": [
       "                     title  year\n",
       "0           The Rising Son  1990\n",
       "1  The Thousand Plane Raid  1969\n",
       "2         Crucea de piatra  1993\n",
       "3                  Country  2000\n",
       "4               Gaiking II  2011"
      ]
     },
     "execution_count": 2,
     "metadata": {},
     "output_type": "execute_result"
    }
   ],
   "source": [
    "titles = pd.read_csv(r'C:\\Users\\client\\Documents\\titles.csv', index_col=None)\n",
    "titles.head()"
   ]
  },
  {
   "cell_type": "code",
   "execution_count": 3,
   "metadata": {
    "jupyter": {
     "outputs_hidden": false
    }
   },
   "outputs": [
    {
     "data": {
      "text/html": [
       "<div>\n",
       "<style scoped>\n",
       "    .dataframe tbody tr th:only-of-type {\n",
       "        vertical-align: middle;\n",
       "    }\n",
       "\n",
       "    .dataframe tbody tr th {\n",
       "        vertical-align: top;\n",
       "    }\n",
       "\n",
       "    .dataframe thead th {\n",
       "        text-align: right;\n",
       "    }\n",
       "</style>\n",
       "<table border=\"1\" class=\"dataframe\">\n",
       "  <thead>\n",
       "    <tr style=\"text-align: right;\">\n",
       "      <th></th>\n",
       "      <th>title</th>\n",
       "      <th>year</th>\n",
       "      <th>name</th>\n",
       "      <th>type</th>\n",
       "      <th>character</th>\n",
       "      <th>n</th>\n",
       "    </tr>\n",
       "  </thead>\n",
       "  <tbody>\n",
       "    <tr>\n",
       "      <th>0</th>\n",
       "      <td>Closet Monster</td>\n",
       "      <td>2015</td>\n",
       "      <td>Buffy #1</td>\n",
       "      <td>actor</td>\n",
       "      <td>Buffy 4</td>\n",
       "      <td>NaN</td>\n",
       "    </tr>\n",
       "    <tr>\n",
       "      <th>1</th>\n",
       "      <td>Suuri illusioni</td>\n",
       "      <td>1985</td>\n",
       "      <td>Homo $</td>\n",
       "      <td>actor</td>\n",
       "      <td>Guests</td>\n",
       "      <td>22.0</td>\n",
       "    </tr>\n",
       "    <tr>\n",
       "      <th>2</th>\n",
       "      <td>Battle of the Sexes</td>\n",
       "      <td>2017</td>\n",
       "      <td>$hutter</td>\n",
       "      <td>actor</td>\n",
       "      <td>Bobby Riggs Fan</td>\n",
       "      <td>10.0</td>\n",
       "    </tr>\n",
       "    <tr>\n",
       "      <th>3</th>\n",
       "      <td>Secret in Their Eyes</td>\n",
       "      <td>2015</td>\n",
       "      <td>$hutter</td>\n",
       "      <td>actor</td>\n",
       "      <td>2002 Dodger Fan</td>\n",
       "      <td>NaN</td>\n",
       "    </tr>\n",
       "    <tr>\n",
       "      <th>4</th>\n",
       "      <td>Steve Jobs</td>\n",
       "      <td>2015</td>\n",
       "      <td>$hutter</td>\n",
       "      <td>actor</td>\n",
       "      <td>1988 Opera House Patron</td>\n",
       "      <td>NaN</td>\n",
       "    </tr>\n",
       "  </tbody>\n",
       "</table>\n",
       "</div>"
      ],
      "text/plain": [
       "                  title  year      name   type                character     n\n",
       "0        Closet Monster  2015  Buffy #1  actor                  Buffy 4   NaN\n",
       "1       Suuri illusioni  1985    Homo $  actor                   Guests  22.0\n",
       "2   Battle of the Sexes  2017   $hutter  actor          Bobby Riggs Fan  10.0\n",
       "3  Secret in Their Eyes  2015   $hutter  actor          2002 Dodger Fan   NaN\n",
       "4            Steve Jobs  2015   $hutter  actor  1988 Opera House Patron   NaN"
      ]
     },
     "execution_count": 3,
     "metadata": {},
     "output_type": "execute_result"
    }
   ],
   "source": [
    "cast = pd.read_csv(r'C:\\Users\\client\\Documents\\cast.csv')\n",
    "cast.head(5)"
   ]
  },
  {
   "cell_type": "markdown",
   "metadata": {},
   "source": [
    "### What are the ten most common movie names of all time?"
   ]
  },
  {
   "cell_type": "code",
   "execution_count": 4,
   "metadata": {},
   "outputs": [
    {
     "data": {
      "text/plain": [
       "Hamlet                  18\n",
       "Carmen                  16\n",
       "Macbeth                 15\n",
       "Maya                    12\n",
       "The Outsider            12\n",
       "Othello                 11\n",
       "Kismet                  11\n",
       "Temptation              11\n",
       "Freedom                 11\n",
       "The Three Musketeers    11\n",
       "Name: title, dtype: int64"
      ]
     },
     "execution_count": 4,
     "metadata": {},
     "output_type": "execute_result"
    }
   ],
   "source": [
    "(titles['title'].value_counts()).head(10)"
   ]
  },
  {
   "cell_type": "code",
   "execution_count": null,
   "metadata": {
    "jupyter": {
     "outputs_hidden": true
    }
   },
   "outputs": [],
   "source": []
  },
  {
   "cell_type": "markdown",
   "metadata": {},
   "source": [
    "### Which three years of the 1930s saw the most films released?"
   ]
  },
  {
   "cell_type": "code",
   "execution_count": 13,
   "metadata": {},
   "outputs": [
    {
     "data": {
      "text/plain": [
       "year  year\n",
       "1938  1938    1129\n",
       "1936  1936    1138\n",
       "1937  1937    1196\n",
       "Name: year, dtype: int64"
      ]
     },
     "execution_count": 13,
     "metadata": {},
     "output_type": "execute_result"
    }
   ],
   "source": [
    "titles[(titles['year']>=1930) & (titles['year']<=1939)].groupby('year')['year'].value_counts().sort_values().tail(3)\n",
    "    "
   ]
  },
  {
   "cell_type": "markdown",
   "metadata": {},
   "source": [
    "### Count the number of films that have been released each decade over the history of cinema."
   ]
  },
  {
   "cell_type": "code",
   "execution_count": 14,
   "metadata": {},
   "outputs": [
    {
     "name": "stdout",
     "output_type": "stream",
     "text": [
      "1890 3\n",
      "1900 37\n",
      "1910 6512\n",
      "1920 8797\n",
      "1930 10097\n",
      "1940 8576\n",
      "1950 12711\n",
      "1960 17515\n",
      "1970 18714\n",
      "1980 20243\n",
      "1990 22225\n",
      "2000 38713\n",
      "2010 67977\n",
      "2020 210\n"
     ]
    }
   ],
   "source": [
    "titles.loc[(titles['year']>=1890) & (titles['year']<1900), 'column_name'] = 1890\n",
    "titles.loc[(titles['year']>=1900) & (titles['year']<1910), 'column_name'] = 1900\n",
    "titles.loc[(titles['year']>=1910) & (titles['year']<1920), 'column_name'] = 1910\n",
    "titles.loc[(titles['year']>=1920) & (titles['year']<1930), 'column_name'] = 1920\n",
    "titles.loc[(titles['year']>=1930) & (titles['year']<1940), 'column_name'] = 1930\n",
    "titles.loc[(titles['year']>=1940) & (titles['year']<1950), 'column_name'] = 1940\n",
    "titles.loc[(titles['year']>=1950) & (titles['year']<1960), 'column_name'] = 1950\n",
    "titles.loc[(titles['year']>=1960) & (titles['year']<1970), 'column_name'] = 1960\n",
    "titles.loc[(titles['year']>=1970) & (titles['year']<1980), 'column_name'] = 1970\n",
    "titles.loc[(titles['year']>=1980) & (titles['year']<1990), 'column_name'] = 1980\n",
    "titles.loc[(titles['year']>=1990) & (titles['year']<2000), 'column_name'] = 1990\n",
    "titles.loc[(titles['year']>=2000) & (titles['year']<2010), 'column_name'] = 2000\n",
    "titles.loc[(titles['year']>=2010) & (titles['year']<2020), 'column_name'] = 2010\n",
    "titles.loc[(titles['year']>=2020) & (titles['year']<2030), 'column_name'] = 2020\n",
    "\n",
    "i_range=[1890,1900,1910,1920,1930,1940,1950,1960,1970,1980,1990,2000,2010,2020]\n",
    "\n",
    "for i in i_range:\n",
    "    print(i, len(titles[titles['column_name'] == i])) \n"
   ]
  },
  {
   "cell_type": "markdown",
   "metadata": {},
   "source": [
    "### Count the number of \"Hamlet\" films made each decade."
   ]
  },
  {
   "cell_type": "code",
   "execution_count": 27,
   "metadata": {},
   "outputs": [
    {
     "data": {
      "text/plain": [
       "column_name  title \n",
       "1910.0       Hamlet    28\n",
       "1920.0       Hamlet     9\n",
       "1940.0       Hamlet    24\n",
       "1950.0       Hamlet     1\n",
       "1960.0       Hamlet    57\n",
       "1970.0       Hamlet    19\n",
       "1980.0       Hamlet     3\n",
       "1990.0       Hamlet    83\n",
       "2000.0       Hamlet    55\n",
       "2010.0       Hamlet    34\n",
       "Name: title, dtype: int64"
      ]
     },
     "execution_count": 27,
     "metadata": {},
     "output_type": "execute_result"
    }
   ],
   "source": [
    "#column_name stands for the decade\n",
    "\n",
    "cast.loc[(cast['year']>=1890) & (cast['year']<1900), 'column_name'] = 1890\n",
    "cast.loc[(cast['year']>=1900) & (cast['year']<1910), 'column_name'] = 1900\n",
    "cast.loc[(cast['year']>=1910) & (cast['year']<1920), 'column_name'] = 1910\n",
    "cast.loc[(cast['year']>=1920) & (cast['year']<1930), 'column_name'] = 1920\n",
    "cast.loc[(cast['year']>=1930) & (cast['year']<1940), 'column_name'] = 1930\n",
    "cast.loc[(cast['year']>=1940) & (cast['year']<1950), 'column_name'] = 1940\n",
    "cast.loc[(cast['year']>=1950) & (cast['year']<1960), 'column_name'] = 1950\n",
    "cast.loc[(cast['year']>=1960) & (cast['year']<1970), 'column_name'] = 1960\n",
    "cast.loc[(cast['year']>=1970) & (cast['year']<1980), 'column_name'] = 1970\n",
    "cast.loc[(cast['year']>=1980) & (cast['year']<1990), 'column_name'] = 1980\n",
    "cast.loc[(cast['year']>=1990) & (cast['year']<2000), 'column_name'] = 1990\n",
    "cast.loc[(cast['year']>=2000) & (cast['year']<2010), 'column_name'] = 2000\n",
    "cast.loc[(cast['year']>=2010) & (cast['year']<2020), 'column_name'] = 2010\n",
    "cast.loc[(cast['year']>=2020) & (cast['year']<2030), 'column_name'] = 2020\n",
    "\n",
    "cast1=cast[cast[\"title\"]=='Hamlet'].groupby('column_name')['title'].value_counts()\n",
    "cast1"
   ]
  },
  {
   "cell_type": "markdown",
   "metadata": {},
   "source": [
    "### Count the number of \"Rustler\" characters in each decade of the history of film."
   ]
  },
  {
   "cell_type": "code",
   "execution_count": 24,
   "metadata": {},
   "outputs": [
    {
     "data": {
      "text/plain": [
       "column_name  character\n",
       "1920.0       Rustler       6\n",
       "1930.0       Rustler      84\n",
       "1940.0       Rustler      18\n",
       "1950.0       Rustler       8\n",
       "1960.0       Rustler       2\n",
       "1970.0       Rustler       9\n",
       "1980.0       Rustler       1\n",
       "1990.0       Rustler       4\n",
       "2000.0       Rustler       2\n",
       "Name: character, dtype: int64"
      ]
     },
     "execution_count": 24,
     "metadata": {},
     "output_type": "execute_result"
    }
   ],
   "source": [
    "cast1=cast[cast[\"character\"]=='Rustler'].groupby('column_name')['character'].value_counts()\n",
    "cast1"
   ]
  },
  {
   "cell_type": "markdown",
   "metadata": {},
   "source": [
    "### Count the number of \"Hamlet\" characters each decade."
   ]
  },
  {
   "cell_type": "code",
   "execution_count": 28,
   "metadata": {},
   "outputs": [
    {
     "data": {
      "text/plain": [
       "column_name  character\n",
       "1910.0       Hamlet       3\n",
       "             Claudius     2\n",
       "             Gertrude     2\n",
       "             Horatio      2\n",
       "             Laertes      2\n",
       "                         ..\n",
       "2010.0       Policeman    1\n",
       "             Polonia      1\n",
       "             Polonius     1\n",
       "             Priest       1\n",
       "             Reynaldo     1\n",
       "Name: character, Length: 221, dtype: int64"
      ]
     },
     "execution_count": 28,
     "metadata": {},
     "output_type": "execute_result"
    }
   ],
   "source": [
    "cast1=cast[cast[\"title\"]=='Hamlet'].groupby('column_name')['character'].value_counts()\n",
    "cast1"
   ]
  },
  {
   "cell_type": "markdown",
   "metadata": {},
   "source": [
    "### What are the 11 most common character names in movie history?"
   ]
  },
  {
   "cell_type": "code",
   "execution_count": 29,
   "metadata": {},
   "outputs": [
    {
     "data": {
      "text/plain": [
       "Minor Role      6255\n",
       "Bartender       6613\n",
       "Nurse           6676\n",
       "Party Guest     6742\n",
       "Policeman       6883\n",
       "Student         7177\n",
       "Doctor          7436\n",
       "Reporter        8154\n",
       "Extra          10953\n",
       "Dancer         12096\n",
       "Himself        19600\n",
       "Name: character, dtype: int64"
      ]
     },
     "execution_count": 29,
     "metadata": {},
     "output_type": "execute_result"
    }
   ],
   "source": [
    "cast['character'].value_counts().sort_values().tail(11)"
   ]
  },
  {
   "cell_type": "markdown",
   "metadata": {},
   "source": [
    "### Who are the 10 people most often credited as \"Herself\" in film history?"
   ]
  },
  {
   "cell_type": "code",
   "execution_count": 33,
   "metadata": {
    "jupyter": {
     "outputs_hidden": true
    }
   },
   "outputs": [
    {
     "data": {
      "text/plain": [
       "name                character\n",
       "Rekha               Herself       5\n",
       "Kareena Kapoor      Herself       5\n",
       "Caroline Rhea       Herself       5\n",
       "Sumie Sakai         Herself       6\n",
       "Joan Rivers         Herself       6\n",
       "Hillary Clinton     Herself       7\n",
       "Mary Jo Pehl        Herself       7\n",
       "Margaret Thatcher   Herself       8\n",
       "Joyce Brothers      Herself       9\n",
       "Queen Elizabeth II  Herself      11\n",
       "Name: character, dtype: int64"
      ]
     },
     "execution_count": 33,
     "metadata": {},
     "output_type": "execute_result"
    }
   ],
   "source": [
    "cast[cast['character']=='Herself'].groupby('name')['character'].value_counts().sort_values().tail(10)"
   ]
  },
  {
   "cell_type": "markdown",
   "metadata": {},
   "source": [
    "### Who are the 10 people most often credited as \"Himself\" in film history?"
   ]
  },
  {
   "cell_type": "code",
   "execution_count": 34,
   "metadata": {
    "jupyter": {
     "outputs_hidden": true
    }
   },
   "outputs": [
    {
     "data": {
      "text/plain": [
       "name                character\n",
       "Bill Clinton        Himself       20\n",
       "Martin Luther King  Himself       21\n",
       "Ron Jeremy          Himself       23\n",
       "Benito Mussolini    Himself       23\n",
       "George W. Bush      Himself       23\n",
       "Winston Churchill   Himself       24\n",
       "John F. Kennedy     Himself       34\n",
       "Ronald Reagan       Himself       39\n",
       "Richard Nixon       Himself       46\n",
       "Adolf Hitler        Himself      100\n",
       "Name: character, dtype: int64"
      ]
     },
     "execution_count": 34,
     "metadata": {},
     "output_type": "execute_result"
    }
   ],
   "source": [
    "cast[cast['character']=='Himself'].groupby('name')['character'].value_counts().sort_values().tail(10)"
   ]
  },
  {
   "cell_type": "markdown",
   "metadata": {},
   "source": [
    "### Which actors or actresses appeared in the most movies in the year 1945?"
   ]
  },
  {
   "cell_type": "code",
   "execution_count": 35,
   "metadata": {},
   "outputs": [
    {
     "data": {
      "text/plain": [
       "Nolan Leary        27\n",
       "Bess Flowers       29\n",
       "Harold Miller      29\n",
       "Sam (II) Harris    32\n",
       "Emmett Vogan       39\n",
       "Name: name, dtype: int64"
      ]
     },
     "execution_count": 35,
     "metadata": {},
     "output_type": "execute_result"
    }
   ],
   "source": [
    "cast[cast[\"year\"]==1945]['name'].value_counts().sort_values().tail()"
   ]
  },
  {
   "cell_type": "markdown",
   "metadata": {},
   "source": [
    "### Which actors or actresses appeared in the most movies in the year 1985?"
   ]
  },
  {
   "cell_type": "code",
   "execution_count": 36,
   "metadata": {},
   "outputs": [
    {
     "data": {
      "text/plain": [
       "Lou Scheimer     15\n",
       "Mohanlal         15\n",
       "Sukumari         20\n",
       "Shakti Kapoor    21\n",
       "Mammootty        22\n",
       "Name: name, dtype: int64"
      ]
     },
     "execution_count": 36,
     "metadata": {},
     "output_type": "execute_result"
    }
   ],
   "source": [
    "cast[cast[\"year\"]==1985]['name'].value_counts().sort_values().tail()"
   ]
  },
  {
   "cell_type": "markdown",
   "metadata": {},
   "source": [
    "### How many roles Mammootty has played in each year of his career."
   ]
  },
  {
   "cell_type": "code",
   "execution_count": 37,
   "metadata": {},
   "outputs": [
    {
     "data": {
      "text/plain": [
       "year  name     \n",
       "1971  Mammootty     1\n",
       "1980  Mammootty     2\n",
       "1981  Mammootty     3\n",
       "1982  Mammootty     7\n",
       "1983  Mammootty    18\n",
       "1984  Mammootty    16\n",
       "1985  Mammootty    22\n",
       "1986  Mammootty    18\n",
       "1987  Mammootty     9\n",
       "1988  Mammootty     7\n",
       "1989  Mammootty    10\n",
       "1990  Mammootty    15\n",
       "1991  Mammootty     6\n",
       "1992  Mammootty     3\n",
       "1993  Mammootty     5\n",
       "1994  Mammootty     5\n",
       "1995  Mammootty     5\n",
       "1996  Mammootty     3\n",
       "1997  Mammootty     2\n",
       "1998  Mammootty     4\n",
       "1999  Mammootty     4\n",
       "2000  Mammootty     7\n",
       "2001  Mammootty     3\n",
       "2002  Mammootty     3\n",
       "2003  Mammootty     2\n",
       "2004  Mammootty     8\n",
       "2005  Mammootty     6\n",
       "2006  Mammootty     8\n",
       "2007  Mammootty     7\n",
       "2008  Mammootty     9\n",
       "2009  Mammootty    12\n",
       "2010  Mammootty     9\n",
       "2011  Mammootty     7\n",
       "2012  Mammootty     7\n",
       "2013  Mammootty     5\n",
       "2014  Mammootty     6\n",
       "2015  Mammootty     6\n",
       "2016  Mammootty     4\n",
       "2017  Mammootty     1\n",
       "Name: name, dtype: int64"
      ]
     },
     "execution_count": 37,
     "metadata": {},
     "output_type": "execute_result"
    }
   ],
   "source": [
    "cast[cast[\"name\"]=='Mammootty'].groupby('year')['name'].value_counts()"
   ]
  },
  {
   "cell_type": "markdown",
   "metadata": {},
   "source": [
    "### What are the 10 most frequent roles that start with the phrase \"Patron in\"?"
   ]
  },
  {
   "cell_type": "code",
   "execution_count": 38,
   "metadata": {},
   "outputs": [
    {
     "data": {
      "text/plain": [
       "Patron in Audience               2\n",
       "Patron in Club                   3\n",
       "Patron in cabaret                3\n",
       "Patron in Restaurant             3\n",
       "Patron in Bar                    4\n",
       "Patron in restaurant             4\n",
       "Patron in Billiard Parlor        5\n",
       "Patron in Chinese Restaurant     9\n",
       "Patron in the Coffee House       9\n",
       "Patron in Frisky Rabbit         16\n",
       "Name: character, dtype: int64"
      ]
     },
     "execution_count": 38,
     "metadata": {},
     "output_type": "execute_result"
    }
   ],
   "source": [
    "cast[cast.character.str.startswith('Patron in')]['character'].value_counts().sort_values().tail(10)"
   ]
  },
  {
   "cell_type": "markdown",
   "metadata": {},
   "source": [
    "### What are the 10 most frequent roles that start with the word \"Science\"?"
   ]
  },
  {
   "cell_type": "code",
   "execution_count": 39,
   "metadata": {},
   "outputs": [
    {
     "data": {
      "text/plain": [
       "Science teacher          3\n",
       "Science                  4\n",
       "Science Kid              5\n",
       "Science Promo Cadet      5\n",
       "Science Reporter         5\n",
       "Science Club Member      5\n",
       "Science Fair Judge       6\n",
       "Science Student          9\n",
       "Science Fair Student     9\n",
       "Science Teacher         60\n",
       "Name: character, dtype: int64"
      ]
     },
     "execution_count": 39,
     "metadata": {},
     "output_type": "execute_result"
    }
   ],
   "source": [
    "cast[cast.character.str.startswith('Science')]['character'].value_counts().sort_values().tail(10)"
   ]
  },
  {
   "cell_type": "markdown",
   "metadata": {},
   "source": [
    "### Count number of n-values of the roles that Judi Dench has played over her career."
   ]
  },
  {
   "cell_type": "code",
   "execution_count": 42,
   "metadata": {},
   "outputs": [
    {
     "data": {
      "text/plain": [
       "n     name      \n",
       "1.0   Judi Dench    6\n",
       "2.0   Judi Dench    6\n",
       "3.0   Judi Dench    6\n",
       "4.0   Judi Dench    4\n",
       "5.0   Judi Dench    2\n",
       "6.0   Judi Dench    4\n",
       "7.0   Judi Dench    4\n",
       "8.0   Judi Dench    1\n",
       "9.0   Judi Dench    1\n",
       "12.0  Judi Dench    3\n",
       "13.0  Judi Dench    2\n",
       "16.0  Judi Dench    2\n",
       "18.0  Judi Dench    2\n",
       "20.0  Judi Dench    1\n",
       "23.0  Judi Dench    1\n",
       "26.0  Judi Dench    1\n",
       "29.0  Judi Dench    1\n",
       "40.0  Judi Dench    1\n",
       "Name: name, dtype: int64"
      ]
     },
     "execution_count": 42,
     "metadata": {},
     "output_type": "execute_result"
    }
   ],
   "source": [
    "cast1=cast[cast['name']=='Judi Dench'].groupby('n')[\"name\"].value_counts()\n",
    "cast1"
   ]
  },
  {
   "cell_type": "code",
   "execution_count": null,
   "metadata": {
    "jupyter": {
     "outputs_hidden": true
    }
   },
   "outputs": [],
   "source": []
  },
  {
   "cell_type": "markdown",
   "metadata": {},
   "source": [
    "### Count number of n-values of Cary Grant's roles through his career."
   ]
  },
  {
   "cell_type": "code",
   "execution_count": 44,
   "metadata": {},
   "outputs": [
    {
     "data": {
      "text/plain": [
       "n     name      \n",
       "1.0   Cary Grant    46\n",
       "2.0   Cary Grant    20\n",
       "3.0   Cary Grant     2\n",
       "4.0   Cary Grant     1\n",
       "5.0   Cary Grant     1\n",
       "8.0   Cary Grant     1\n",
       "9.0   Cary Grant     2\n",
       "10.0  Cary Grant     2\n",
       "Name: name, dtype: int64"
      ]
     },
     "execution_count": 44,
     "metadata": {},
     "output_type": "execute_result"
    }
   ],
   "source": [
    "cast1=cast[cast['name']=='Cary Grant'].groupby('n')[\"name\"].value_counts()\n",
    "cast1"
   ]
  },
  {
   "cell_type": "markdown",
   "metadata": {},
   "source": [
    "### Count number of n-value of the roles that Sidney Poitier has acted over the years."
   ]
  },
  {
   "cell_type": "code",
   "execution_count": 45,
   "metadata": {},
   "outputs": [
    {
     "data": {
      "text/plain": [
       "n     name          \n",
       "1.0   Sidney Poitier    21\n",
       "2.0   Sidney Poitier     8\n",
       "3.0   Sidney Poitier     6\n",
       "4.0   Sidney Poitier     3\n",
       "5.0   Sidney Poitier     1\n",
       "10.0  Sidney Poitier     1\n",
       "13.0  Sidney Poitier     1\n",
       "21.0  Sidney Poitier     1\n",
       "Name: name, dtype: int64"
      ]
     },
     "execution_count": 45,
     "metadata": {},
     "output_type": "execute_result"
    }
   ],
   "source": [
    "cast1=cast[cast['name']=='Sidney Poitier'].groupby('n')[\"name\"].value_counts()\n",
    "cast1"
   ]
  },
  {
   "cell_type": "markdown",
   "metadata": {},
   "source": [
    "### How many leading (n=1) roles were available to actors, and how many to actresses, in the 1950s?"
   ]
  },
  {
   "cell_type": "code",
   "execution_count": 46,
   "metadata": {},
   "outputs": [
    {
     "data": {
      "text/plain": [
       "type     n  \n",
       "actor    1.0    6616\n",
       "actress  1.0    2965\n",
       "Name: n, dtype: int64"
      ]
     },
     "execution_count": 46,
     "metadata": {},
     "output_type": "execute_result"
    }
   ],
   "source": [
    "cast1=cast[(cast['year']>=1950) & (cast['year']<1960) & (cast['n']==1)].groupby('type')['n'].value_counts()\n",
    "cast1\n",
    "\n",
    "\n"
   ]
  },
  {
   "cell_type": "markdown",
   "metadata": {},
   "source": [
    "### How many supporting (n=2) roles were available to actors, and how many to actresses, in the 1950s?"
   ]
  },
  {
   "cell_type": "code",
   "execution_count": 47,
   "metadata": {},
   "outputs": [
    {
     "data": {
      "text/plain": [
       "type     n  \n",
       "actor    2.0    4564\n",
       "actress  2.0    4556\n",
       "Name: n, dtype: int64"
      ]
     },
     "execution_count": 47,
     "metadata": {},
     "output_type": "execute_result"
    }
   ],
   "source": [
    "cast1=cast[(cast['year']>=1950) & (cast['year']<1960) & (cast['n']==2)].groupby('type')['n'].value_counts()\n",
    "cast1"
   ]
  }
 ],
 "metadata": {
  "kernelspec": {
   "display_name": "Python 3",
   "language": "python",
   "name": "python3"
  },
  "language_info": {
   "codemirror_mode": {
    "name": "ipython",
    "version": 3
   },
   "file_extension": ".py",
   "mimetype": "text/x-python",
   "name": "python",
   "nbconvert_exporter": "python",
   "pygments_lexer": "ipython3",
   "version": "3.8.3"
  }
 },
 "nbformat": 4,
 "nbformat_minor": 4
}
