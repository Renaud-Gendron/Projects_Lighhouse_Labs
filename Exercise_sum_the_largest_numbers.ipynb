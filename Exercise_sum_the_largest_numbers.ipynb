{
 "cells": [
  {
   "cell_type": "markdown",
   "metadata": {},
   "source": [
    "# Exercise sum the largest numbers\n",
    "\n",
    "In this exercise, we will be given a list of 2 or more numbers. We will then have to find the two largest numbers in that list and sum them together.\n",
    "\n",
    "Create a function named sumLargestNumbers that will receive a list of numbers and return the sum of the two largest numbers in that array"
   ]
  },
  {
   "cell_type": "code",
   "execution_count": 4,
   "metadata": {},
   "outputs": [
    {
     "name": "stdout",
     "output_type": "stream",
     "text": [
      "11\n",
      "5\n",
      "None\n",
      "126\n",
      "None\n"
     ]
    }
   ],
   "source": [
    "import numpy as np\n",
    "\n",
    "def sumLargestNumbers(x):\n",
    "    largest_integer=np.max(x)\n",
    "    x.remove(largest_integer)\n",
    "    second_largest_integer = max(x)\n",
    "    print(sum([largest_integer,second_largest_integer]))\n",
    "    \n",
    "sumLargestNumbers([1,10])\n",
    "print(sumLargestNumbers([1, 2, 3]))\n",
    "print(sumLargestNumbers([10, 4, 34, 6, 92, 2]))"
   ]
  }
 ],
 "metadata": {
  "kernelspec": {
   "display_name": "Python 3",
   "language": "python",
   "name": "python3"
  },
  "language_info": {
   "codemirror_mode": {
    "name": "ipython",
    "version": 3
   },
   "file_extension": ".py",
   "mimetype": "text/x-python",
   "name": "python",
   "nbconvert_exporter": "python",
   "pygments_lexer": "ipython3",
   "version": "3.8.3"
  }
 },
 "nbformat": 4,
 "nbformat_minor": 4
}
