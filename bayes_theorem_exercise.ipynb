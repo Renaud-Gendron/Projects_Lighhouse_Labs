{
 "cells": [
  {
   "cell_type": "markdown",
   "metadata": {
    "ExecuteTime": {
     "end_time": "2020-02-05T17:56:20.532960Z",
     "start_time": "2020-02-05T17:56:20.525450Z"
    }
   },
   "source": [
    "## Bayes Theorem: Exercise\n",
    "\n",
    "A diagnostic test has a probability 0.95 of giving a positive result when applied to a person suffering\n",
    "from a certain disease, and a probability 0.10 of giving a (false) positive when applied to a non-sufferer. It is\n",
    "estimated that 0.5 % of the population are sufferers. Suppose that the test is now administered to a person about\n",
    "whom we have no relevant information relating to the disease (apart from the fact that he/she comes from this\n",
    "population). \n",
    "\n",
    "Calculate the following probabilities:\n",
    "- **(a)** that the test result will be positive;\n",
    "- **(b)** that, given a positive result, the person is a sufferer;\n",
    "- **(c)** that, given a negative result, the person is a non-sufferer;\n",
    "- **(d)** that the person will be misclassified.\n",
    "\n",
    "Use following notation:\n",
    "\n",
    "T = test positive <br>\n",
    "NT = test negative<br>\n",
    "S = sufferer<br>\n",
    "NS = non-sufferer<br>\n",
    "M = misclassified<br>\n",
    "\n",
    "Solve it by two approaches:\n",
    "1. Arithmetically (similarly tu earlier tutorial)\n",
    "2. By simulation (run the test 10000 times and compute the probabilities)"
   ]
  },
  {
   "cell_type": "code",
   "execution_count": 1,
   "metadata": {},
   "outputs": [
    {
     "name": "stdout",
     "output_type": "stream",
     "text": [
      "0.10425000000000001\n",
      "0.04556354916067146\n",
      "0.9997209042701647\n",
      "0.09975\n"
     ]
    }
   ],
   "source": [
    "#1.a\n",
    "\n",
    "prob_T_NS=0.1*0.995 #probability that the test is positive and the person is non-sufferer\n",
    "prob_T_S=0.95*0.005 #probability that the test is positive and the person is sufferer\n",
    "prob_T=prob_T_NS+prob_T_S\n",
    "print(prob_T)\n",
    "\n",
    "#1.b\n",
    "\n",
    "prob_S_given_T=prob_T_S/prob_T\n",
    "print(prob_S_given_T)\n",
    "\n",
    "#1.c\n",
    "\n",
    "prob_NT_NS=0.995*0.9 #probability that the test is negative and the person is non-sufferer\n",
    "prob_NT_S=0.005*0.05 #probability that the test is negative and the person is sufferer\n",
    "prob_NT_given_NS= (0.995*0.9)/((0.995*0.9)+(0.005*0.05))\n",
    "print(prob_NT_given_NS)\n",
    "\n",
    "#1.d \n",
    "\n",
    "prob_M=prob_T_NS+prob_NT_S\n",
    "print(prob_M)\n"
   ]
  },
  {
   "cell_type": "code",
   "execution_count": 2,
   "metadata": {},
   "outputs": [
    {
     "name": "stdout",
     "output_type": "stream",
     "text": [
      "0.104\n",
      "0.041821561338289966\n",
      "0.9979296066252588\n",
      "0.0978\n"
     ]
    }
   ],
   "source": [
    "import scipy.stats as st\n",
    "import random\n",
    "\n",
    "#2.a\n",
    "def test_positive(n_simulations):\n",
    "    count=0 #Set the count at 0\n",
    "    for i in range(n_simulations):\n",
    "        u_1 = random.uniform(0, 1) #generate 2 numbers between 0 and 1\n",
    "        u_2 = random.uniform(0, 1)\n",
    "        if u_1 <= 0.995: #probability that the person is non-sufferer\n",
    "            if u_2 <= 0.9: #probability that the test is negative\n",
    "                count=count\n",
    "            else: #probability that the test is positive\n",
    "                count=count+1\n",
    "        if u_1 > 0.995: #probability that the person is sufferer\n",
    "            if u_2 <= 0.1: #probability that the test is negative\n",
    "                count=count\n",
    "            else: #probability that the test is positive\n",
    "                count=count+1\n",
    "    prob_T=count/n_simulations\n",
    "    print(prob_T)\n",
    "\n",
    "test_positive(10000) #Calculate the probability that the test is positive with 10 000 simulations\n",
    "\n",
    "#2.b\n",
    "def test_sufferer(n_simulations):\n",
    "    count=0 #This variable counts the number of times the person tests positive\n",
    "    count_2=0 #This variable counts the number of times the person tests positive and is sufferer\n",
    "    for i in range(n_simulations):\n",
    "        u_1 = random.uniform(0, 1)\n",
    "        u_2 = random.uniform(0, 1)\n",
    "        if u_1 <= 0.995:\n",
    "            if u_2 <= 0.1:\n",
    "                count=count+1\n",
    "                count_2=count_2\n",
    "            else:\n",
    "                count=count\n",
    "                count_2=count_2\n",
    "        if u_1 > 0.995:\n",
    "            if u_2 <= 0.95:\n",
    "                count=count+1\n",
    "                count_2=count_2+1\n",
    "            else:\n",
    "                count=count\n",
    "                count_2=count_2\n",
    "    x=(count_2/count)\n",
    "    print(x)\n",
    "\n",
    "test_sufferer(10000)\n",
    "\n",
    "#2.c\n",
    "def test(n_simulations):\n",
    "    count=0 #This variable counts the number of times the person tests negative\n",
    "    count_2=0 #This variable counts the number of times the person tests negative and is non-sufferer\n",
    "    for i in range(n_simulations):\n",
    "        u_1 = random.uniform(0, 1)\n",
    "        u_2 = random.uniform(0, 1)\n",
    "        if u_1 <= 0.995:\n",
    "            if u_2 <= 0.1:\n",
    "                count=count+1\n",
    "                count_2=count_2+1\n",
    "            else:\n",
    "                count=count\n",
    "                count_2=count_2\n",
    "        if u_1 > 0.995:\n",
    "            if u_2 <= 0.05:\n",
    "                count=count+1\n",
    "                count_2=count_2\n",
    "            else:\n",
    "                count=count\n",
    "                count_2=count_2\n",
    "    x=(count_2/count)\n",
    "    print(x)\n",
    "\n",
    "test(10000)\n",
    "\n",
    "#2.d\n",
    "def test_misclassified(n_simulations):\n",
    "    count=0 #This variable counts the number of times a person is misclassified\n",
    "    for i in range(n_simulations):\n",
    "        u_1 = random.uniform(0, 1)\n",
    "        u_2 = random.uniform(0, 1)\n",
    "        if u_1 <= 0.995:\n",
    "            if u_2 <= 0.1:\n",
    "                count=count+1\n",
    "            else:\n",
    "                count=count\n",
    "        if u_1 > 0.995:\n",
    "            if u_2 <= 0.05:\n",
    "                count=count+1\n",
    "            else:\n",
    "                count=count\n",
    "    x=count/n_simulations\n",
    "    print(x)\n",
    "    \n",
    "test_misclassified(10000)"
   ]
  }
 ],
 "metadata": {
  "kernelspec": {
   "display_name": "Python 3",
   "language": "python",
   "name": "python3"
  },
  "language_info": {
   "codemirror_mode": {
    "name": "ipython",
    "version": 3
   },
   "file_extension": ".py",
   "mimetype": "text/x-python",
   "name": "python",
   "nbconvert_exporter": "python",
   "pygments_lexer": "ipython3",
   "version": "3.8.3"
  },
  "toc": {
   "base_numbering": 1,
   "nav_menu": {},
   "number_sections": true,
   "sideBar": true,
   "skip_h1_title": false,
   "title_cell": "Table of Contents",
   "title_sidebar": "Contents",
   "toc_cell": false,
   "toc_position": {},
   "toc_section_display": true,
   "toc_window_display": false
  },
  "varInspector": {
   "cols": {
    "lenName": 16,
    "lenType": 16,
    "lenVar": 40
   },
   "kernels_config": {
    "python": {
     "delete_cmd_postfix": "",
     "delete_cmd_prefix": "del ",
     "library": "var_list.py",
     "varRefreshCmd": "print(var_dic_list())"
    },
    "r": {
     "delete_cmd_postfix": ") ",
     "delete_cmd_prefix": "rm(",
     "library": "var_list.r",
     "varRefreshCmd": "cat(var_dic_list()) "
    }
   },
   "types_to_exclude": [
    "module",
    "function",
    "builtin_function_or_method",
    "instance",
    "_Feature"
   ],
   "window_display": false
  }
 },
 "nbformat": 4,
 "nbformat_minor": 4
}
