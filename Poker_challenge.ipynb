{
 "cells": [
  {
   "cell_type": "markdown",
   "metadata": {},
   "source": [
    "## Poker Hand\n",
    "\n",
    "In this challenge, we have to find out which kind of Poker combination is present in a deck of 5 cards.Every card is a string containing the card value (with the upper-case initial for face-cards) and the lower-case initial for suits, as in the examples below:\n",
    "\n",
    "> \"Ah\" ➞ Ace of hearts <br>\n",
    "> \"Ks\" ➞ King of spades<br>\n",
    "> \"3d\" ➞ Three of diamonds<br>\n",
    "> \"Qc\" ➞ Queen of clubs <br>\n",
    "\n",
    "There are 10 different combinations. Here's the list, in decreasing order of importance:"
   ]
  },
  {
   "cell_type": "markdown",
   "metadata": {},
   "source": [
    "| Name            | Description                                         |\n",
    "|-----------------|-----------------------------------------------------|\n",
    "| Royal Flush     | A, K, Q, J, 10, all with the same suit.             |\n",
    "| Straight Flush  | Five cards in sequence, all with the same suit.     |\n",
    "| Four of a Kind  | Four cards of the same rank.                        |\n",
    "| Full House      | Three of a Kind with a Pair.                        |\n",
    "| Flush           | Any five cards of the same suit, not in sequence    |\n",
    "| Straight        | Five cards in a sequence, but not of the same suit. |\n",
    "| Three of a Kind | Three cards of the same rank.                       |\n",
    "| Two Pair        | Two different Pairs.                                |\n",
    "| Pair            | Two cards of the same rank.                         |\n",
    "| High Card       | No other valid combination.                         |"
   ]
  },
  {
   "cell_type": "markdown",
   "metadata": {},
   "source": [
    "### 1. Given a list `hand` containing five strings being the cards, implement a function `poker_hand_ranking` that returns a string with the name of the **highest** combination obtained, accordingly to the table above.\n",
    "\n",
    "#### Examples\n",
    "\n",
    "> poker_hand_ranking([\"10h\", \"Jh\", \"Qh\", \"Ah\", \"Kh\"]) ➞ \"Royal Flush\"<br>\n",
    "> poker_hand_ranking([\"3h\", \"5h\", \"Qs\", \"9h\", \"Ad\"]) ➞ \"High Card\"<br>\n",
    "> poker_hand_ranking([\"10s\", \"10c\", \"8d\", \"10d\", \"10h\"]) ➞ \"Four of a Kind\"<br>"
   ]
  },
  {
   "cell_type": "code",
   "execution_count": 3,
   "metadata": {},
   "outputs": [
    {
     "name": "stdout",
     "output_type": "stream",
     "text": [
      "Two Pair\n"
     ]
    }
   ],
   "source": [
    "from collections import defaultdict #import defaultdict\n",
    "\n",
    "def poker_hand_ranking(hand): #create two lists, suits and rank\n",
    "    suits = [h[-1] for h in hand] #choose the last element of the string \n",
    "    rank = [h[0] for h in hand] #choose the first element of the string\n",
    "    ranks=sorted(rank,reverse=False) #make sure that the rank list is in order for simplicity\n",
    "    if len(set(suits)) == 1: #check if we have a flush\n",
    "        if ranks==['1','A','J','K','Q']:\n",
    "            print('Royal Flush')\n",
    "        elif ranks==['2','A','3','4','5'] or ranks==['2','3','4','5','6'] or ranks==['3','4','5','6','7'] or ranks==['4','5','6','7','8'] or ranks==['5','6','7','8','9'] or ranks==['6','7','8','9','1'] or ranks==['7','8','9','1','J'] or ranks==['8','9','1','J','Q'] or ranks==['9','1','J','K','Q']:\n",
    "            print('Straight Flush') #check all possibilities to have a four of a straight flush\n",
    "        else:\n",
    "            print('Flush')\n",
    "    elif ranks.count('2')==4 or ranks.count('3')==4 or ranks.count('4')==4 or ranks.count('5')==4 or ranks.count('6')==4 or ranks.count('7')==4 or ranks.count('8')==4 or ranks.count('9')==4 or ranks.count('1')==4 or ranks.count('J')==4 or ranks.count('Q')==4 or ranks.count('K')==4 or ranks.count('A')==4:\n",
    "        print('Four of a kind') #check all possibilities to have a four of a kind\n",
    "    elif ranks==['2','A','3','4','5'] or ranks==['2','3','4','5','6'] or ranks==['3','4','5','6','7'] or ranks==['4','5','6','7','8'] or ranks==['5','6','7','8','9'] or ranks==['6','7','8','9','1'] or ranks==['7','8','9','1','J'] or ranks==['8','9','1','J','Q'] or ranks==['9','1','J','K','Q']:\n",
    "        print('Straight') #check all possibilities to have a straight \n",
    "    else:\n",
    "        values = [i[0] for i in hand] #choose, again, the first element of the string\n",
    "        value_counts = defaultdict(lambda:0) \n",
    "        for v in values: \n",
    "            value_counts[v]+=1 #count the number of times we get the same value\n",
    "        if sorted(value_counts.values()) == [2,3]: \n",
    "            print('Full house')\n",
    "        elif sorted(value_counts.values()) == [1,1,3]:\n",
    "            print('Three of a kind')\n",
    "        elif sorted(value_counts.values()) == [1,2,2]:\n",
    "            print('Two Pair')\n",
    "        elif sorted(value_counts.values()) == [1,1,1,2]:\n",
    "            print('Pair')\n",
    "        else:\n",
    "            print('High Card')\n",
    "\n",
    "poker_hand_ranking([\"2h\", \"2s\", \"3d\", \"4c\", \"4h\"])"
   ]
  },
  {
   "cell_type": "markdown",
   "metadata": {},
   "source": [
    "# STRETCH"
   ]
  },
  {
   "cell_type": "markdown",
   "metadata": {},
   "source": [
    "### 2. Implement a function `winner_is` that returns the winner given a dictionary with different players and their hands. For example:\n",
    "\n",
    "#### Example\n",
    "\n",
    "We define dictionary like\n",
    "```\n",
    "round_1 = {\"John\" = [\"10h\", \"Jh\", \"Qh\", \"Ah\", \"Kh\"], \n",
    "        \"Peter\" = [\"3h\", \"5h\", \"Qs\", \"9h\", \"Ad\"]\n",
    "}\n",
    "```\n",
    "\n",
    "Our function returns the name of the winner:\n",
    "> winner_is(round_1) -> \"John\"\n",
    "\n",
    "One table can have up to 10 players.\n"
   ]
  },
  {
   "cell_type": "code",
   "execution_count": 4,
   "metadata": {},
   "outputs": [
    {
     "name": "stdout",
     "output_type": "stream",
     "text": [
      "John\n"
     ]
    }
   ],
   "source": [
    "import operator #import operator\n",
    "\n",
    "def winner(round_1):\n",
    "    mydict={} #create an empty dictionary \n",
    "    for hand in round_1.items(): #The code below assign a score to each participant with respect to its Poke combination in a dictionary\n",
    "        suits = [h[-1] for h in hand[1]]\n",
    "        rank = [h[0] for h in hand[1]]\n",
    "        ranks=sorted(rank,reverse=False)\n",
    "        if len(set(suits)) == 1:\n",
    "            if ranks==['1','A','J','K','Q']:\n",
    "                score=9\n",
    "                mydict[hand[0]]=score\n",
    "            elif ranks==['2','A','3','4','5'] or ranks==['2','3','4','5','6'] or ranks==['3','4','5','6','7'] or ranks==['4','5','6','7','8'] or ranks==['5','6','7','8','9'] or ranks==['6','7','8','9','1'] or ranks==['7','8','9','1','J'] or ranks==['8','9','1','J','Q'] or ranks==['9','1','J','K','Q']:\n",
    "                score=8\n",
    "                mydict[hand[0]]=score\n",
    "            else:\n",
    "                score=5\n",
    "                mydict[hand[0]]=score\n",
    "        elif ranks.count('2')==4 or ranks.count('3')==4 or ranks.count('4')==4 or ranks.count('5')==4 or ranks.count('6')==4 or ranks.count('7')==4 or ranks.count('8')==4 or ranks.count('9')==4 or ranks.count('1')==4 or ranks.count('J')==4 or ranks.count('Q')==4 or ranks.count('K')==4 or ranks.count('A')==4:\n",
    "            score=7\n",
    "            mydict[hand[0]]=score\n",
    "        elif ranks==['2','A','3','4','5'] or ranks==['2','3','4','5','6'] or ranks==['3','4','5','6','7'] or ranks==['4','5','6','7','8'] or ranks==['5','6','7','8','9'] or ranks==['6','7','8','9','1'] or ranks==['7','8','9','1','J'] or ranks==['8','9','1','J','Q'] or ranks==['9','1','J','K','Q']:\n",
    "            score=4\n",
    "            print(score)\n",
    "        else:\n",
    "            values = [i[0] for i in hand]\n",
    "            value_counts = defaultdict(lambda:0)\n",
    "            for v in values: \n",
    "                value_counts[v]+=1\n",
    "            if sorted(value_counts.values()) == [2,3]:\n",
    "                score=6\n",
    "                print(score)\n",
    "            elif sorted(value_counts.values()) == [1,1,3]:\n",
    "                score=3\n",
    "                print(score)\n",
    "            elif sorted(value_counts.values()) == [1,2,2]:\n",
    "                score=2\n",
    "                print(score)\n",
    "            elif sorted(value_counts.values()) == [1,1,1,2]:\n",
    "                score=1\n",
    "                print(score)\n",
    "            else:\n",
    "                score=0\n",
    "                mydict[hand[0]]=score\n",
    "    print(max(mydict.items(), key=operator.itemgetter(1))[0]) #Get the item, or the name of the participant in mydict with the highest score\n",
    "                \n",
    "    \n",
    "    \n",
    "winner( {\"John\" : [\"10h\", \"Jh\", \"Qh\", \"Ah\", \"Kh\"], \n",
    "        \"Peter\" : [\"3h\", \"5h\", \"Qs\", \"9h\", \"Ad\"]\n",
    "        })       "
   ]
  },
  {
   "cell_type": "markdown",
   "metadata": {},
   "source": [
    "### 3. Create a generator that randomly gives 5 cards to every player given a list of player names\n",
    "#### Example\n",
    "\n",
    "> distribute_cards([\"John\",\"Peter\"])  -> round_1 = {\"John\" = [\"10h\", \"Jh\", \"Qh\", \"Ah\", \"Kh\"], \n",
    "        \"Peter\" = [\"3h\", \"5h\", \"Qs\", \"9h\", \"Ad\"]\n",
    "}"
   ]
  },
  {
   "cell_type": "code",
   "execution_count": 112,
   "metadata": {},
   "outputs": [
    {
     "name": "stdout",
     "output_type": "stream",
     "text": [
      "{'John': ['7H', '6C', '2S', 'KD', '3S'], 'Peter': ['AS', '8D', '7C', '3C', '9S']}\n"
     ]
    }
   ],
   "source": [
    "from itertools import product\n",
    "from random import shuffle\n",
    "\n",
    "def distribute_cards(round_1):\n",
    "    mydict={} #create an empty dictionary\n",
    "    count=0 #this counts the number of participant\n",
    "    suits = [\"C\",\"D\",\"H\",\"S\"]  #all the suits in a deck of card\n",
    "    ranks = [\"2\",\"3\",\"4\",\"5\",\"4\",\"6\",\"7\",\"8\",\"9\",\"J\",\"Q\",\"K\",\"A\"] #all the ranks in a deck of card\n",
    "    while count<len(round_1): #assign a combination until we reach the number of participants in round_1\n",
    "        cards = list(r + s for r, s in product(ranks, suits))\n",
    "        shuffle(cards)\n",
    "        mydict[round_1[count]]=cards[5*count:5*(count+1)]\n",
    "        count=count+1\n",
    "    print(mydict) #print the name and the combination for each participant\n",
    "\n",
    "distribute_cards([\"John\",\"Peter\"])"
   ]
  }
 ],
 "metadata": {
  "kernelspec": {
   "display_name": "Python 3",
   "language": "python",
   "name": "python3"
  },
  "language_info": {
   "codemirror_mode": {
    "name": "ipython",
    "version": 3
   },
   "file_extension": ".py",
   "mimetype": "text/x-python",
   "name": "python",
   "nbconvert_exporter": "python",
   "pygments_lexer": "ipython3",
   "version": "3.8.3"
  }
 },
 "nbformat": 4,
 "nbformat_minor": 4
}
