{
 "cells": [
  {
   "cell_type": "markdown",
   "metadata": {},
   "source": [
    "# Exercise Percent Encoded String\n",
    "\n",
    "n this exercise, we will be given a normal string of words and turn it into a percent-encoded string by replacing all whitespace with %20.\n",
    "\n",
    "Percent Encoding\n",
    "Take a look at the following URL, specifically the last part:\n",
    "\n",
    "This URL will perform a Google search for the term \"lighthouse labs\". Notice that when the string \"lighthouse labs\" is part of a URL, the space is replaced with %20.\n",
    "\n",
    "If we want to add a parameter to a URL, there are certain characters that must be encoded in order to make the URL valid. There are many characters that must be encoded, including: , !, \", and #. For this exercise, we will only be focusing on replacing the space with %20.\n",
    "\n",
    "Create a function named urlEncode that will receive a string of words, and return that string with all of the whitespace characters converted to %20. If there is whitespace on the outside of the string, like in our second example above, you should only replace the whitespace within the string."
   ]
  },
  {
   "cell_type": "code",
   "execution_count": 58,
   "metadata": {},
   "outputs": [
    {
     "name": "stdout",
     "output_type": "stream",
     "text": [
      "Lighthouse%20Labs\n",
      "Lighthouse%20Labs\n",
      "blue%20is%20greener%20than%20purple%20for%20sure\n"
     ]
    }
   ],
   "source": [
    "def urlEncode(text):\n",
    "    text=text.rstrip()\n",
    "    text=text.lstrip()\n",
    "    for letter in text:\n",
    "        if letter==\" \":\n",
    "            text=text.replace(letter,\"%20\") \n",
    "    return text\n",
    "\n",
    "print(urlEncode(\"Lighthouse Labs\"))\n",
    "print(urlEncode(\" Lighthouse Labs  \"))\n",
    "print(urlEncode(\"blue is greener than purple for sure\"))\n",
    "            \n",
    "    "
   ]
  }
 ],
 "metadata": {
  "kernelspec": {
   "display_name": "Python 3",
   "language": "python",
   "name": "python3"
  },
  "language_info": {
   "codemirror_mode": {
    "name": "ipython",
    "version": 3
   },
   "file_extension": ".py",
   "mimetype": "text/x-python",
   "name": "python",
   "nbconvert_exporter": "python",
   "pygments_lexer": "ipython3",
   "version": "3.8.3"
  }
 },
 "nbformat": 4,
 "nbformat_minor": 4
}
