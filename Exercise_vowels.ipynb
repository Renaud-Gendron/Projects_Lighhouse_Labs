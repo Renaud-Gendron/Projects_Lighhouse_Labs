{
 "cells": [
  {
   "cell_type": "markdown",
   "metadata": {},
   "source": [
    "# Exercise Count the Number of Vowels\n",
    "\n",
    "In this exercise, we will be counting the number of vowels that appear in a given string. For this exercise, consider the following to be vowels: a, e, i, o, and u.\n",
    "\n",
    "Create a function named numberOfVowels that will receive a string and return the number of vowels in that string."
   ]
  },
  {
   "cell_type": "code",
   "execution_count": 26,
   "metadata": {},
   "outputs": [
    {
     "name": "stdout",
     "output_type": "stream",
     "text": [
      "3\n",
      "5\n",
      "5\n"
     ]
    }
   ],
   "source": [
    "\n",
    "def numberOfVowels(data):\n",
    "    count=0\n",
    "    for char in data:\n",
    "        if char ==\"a\" or char == \"e\" or char == \"o\" or char == \"i\" or char == \"u\":\n",
    "            count=count+1\n",
    "        else:\n",
    "            count=count\n",
    "    print(count)\n",
    "\n",
    "numberOfVowels(\"orange\")\n",
    "numberOfVowels(\"lighthouse labs\")\n",
    "numberOfVowels(\"aeiou\")"
   ]
  }
 ],
 "metadata": {
  "kernelspec": {
   "display_name": "Python 3",
   "language": "python",
   "name": "python3"
  },
  "language_info": {
   "codemirror_mode": {
    "name": "ipython",
    "version": 3
   },
   "file_extension": ".py",
   "mimetype": "text/x-python",
   "name": "python",
   "nbconvert_exporter": "python",
   "pygments_lexer": "ipython3",
   "version": "3.8.3"
  }
 },
 "nbformat": 4,
 "nbformat_minor": 4
}
