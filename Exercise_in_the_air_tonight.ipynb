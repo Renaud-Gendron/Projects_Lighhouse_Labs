{
 "cells": [
  {
   "cell_type": "markdown",
   "metadata": {},
   "source": [
    "# Exercise in the Air Tonight \n",
    "\n",
    "The new smart parking lot in Codeville was a big hit! Next on your list to tackle is the air quality. You've decided that you want to install air pollution sensors around the city to monitor air quality and identify problematic areas. We need to write the code for the sensors to trigger a special message when the air is too polluted.\n",
    "\n",
    "For this challenge, we will implement a function called checkAir(), which will check a collection of air samples. The function will take in two arguments. The first argument is a list of strings, where each string represents a small air sample that is either clean or dirty. The second argument is a number representing the highest acceptable amount of dirty samples. For example, a threshold of 0.4 means that there must be less than 40% of total samples classified as dirty for our air to be considered clean. Our function must return Polluted if there are too many dirty air samples, or Clean if the proportion of dirty samples is below the threshold."
   ]
  },
  {
   "cell_type": "code",
   "execution_count": 11,
   "metadata": {},
   "outputs": [
    {
     "name": "stdout",
     "output_type": "stream",
     "text": [
      "Polluted\n",
      "None\n",
      "Polluted\n",
      "None\n",
      "Clean\n",
      "None\n"
     ]
    }
   ],
   "source": [
    "import statistics\n",
    "\n",
    "def checkAir(samples,threshold):\n",
    "    n=len(samples)\n",
    "    count=0\n",
    "    for i in samples:\n",
    "        if i=='clean':\n",
    "            count=count\n",
    "        else:\n",
    "            count=count+1\n",
    "    y=count/n\n",
    "    if y>threshold:\n",
    "        print(\"Polluted\")\n",
    "    else:\n",
    "        print(\"Clean\")\n",
    "\n",
    "print(checkAir(['clean', 'clean', 'dirty', 'clean', 'dirty', 'clean', 'clean', 'dirty', 'clean', 'dirty'],0.3))\n",
    "print(checkAir(\n",
    "  ['dirty', 'dirty', 'dirty', 'dirty', 'clean'],\n",
    "  0.25\n",
    "))\n",
    "print(checkAir(\n",
    "  ['clean', 'dirty', 'clean', 'dirty', 'clean', 'dirty', 'clean'],\n",
    "  0.9\n",
    "))\n",
    "        \n",
    "        "
   ]
  }
 ],
 "metadata": {
  "kernelspec": {
   "display_name": "Python 3",
   "language": "python",
   "name": "python3"
  },
  "language_info": {
   "codemirror_mode": {
    "name": "ipython",
    "version": 3
   },
   "file_extension": ".py",
   "mimetype": "text/x-python",
   "name": "python",
   "nbconvert_exporter": "python",
   "pygments_lexer": "ipython3",
   "version": "3.8.3"
  }
 },
 "nbformat": 4,
 "nbformat_minor": 4
}
