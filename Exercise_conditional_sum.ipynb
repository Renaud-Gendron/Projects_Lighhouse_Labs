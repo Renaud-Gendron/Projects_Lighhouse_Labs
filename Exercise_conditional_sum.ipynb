{
 "cells": [
  {
   "cell_type": "markdown",
   "metadata": {},
   "source": [
    "# Exercise Conditional Sum\n",
    "\n",
    "For this kata, we'll be adding up only the numbers in the list which match the given condition.\n",
    "\n",
    "Create a function named conditionalSum that will be given a list of numbers and a condition, in this case odd or even. Given this condition, add up only the values which match that condition. If no values match the condition, return 0."
   ]
  },
  {
   "cell_type": "code",
   "execution_count": 8,
   "metadata": {},
   "outputs": [
    {
     "name": "stdout",
     "output_type": "stream",
     "text": [
      "6\n",
      "None\n",
      "9\n",
      "None\n",
      "144\n",
      "None\n",
      "0\n",
      "None\n"
     ]
    }
   ],
   "source": [
    "def conditionalSum(values,conditions):\n",
    "    summ=0\n",
    "    if conditions==\"even\":\n",
    "        for i in values:\n",
    "            if (i % 2) == 0:  \n",
    "                summ=summ+i  \n",
    "            else:  \n",
    "                summ=summ\n",
    "    else:\n",
    "        for i in values:\n",
    "            if (i % 2) == 0:\n",
    "                summ=summ\n",
    "            else:\n",
    "                summ=summ+i\n",
    "    print(summ)\n",
    "    \n",
    "print(conditionalSum([1, 2, 3, 4, 5], \"even\"))\n",
    "print(conditionalSum([1, 2, 3, 4, 5], \"odd\"))\n",
    "print(conditionalSum([13, 88, 12, 44, 99], \"even\"))\n",
    "print(conditionalSum([], \"odd\"))\n",
    "            \n",
    "        \n",
    "    \n",
    "    "
   ]
  }
 ],
 "metadata": {
  "kernelspec": {
   "display_name": "Python 3",
   "language": "python",
   "name": "python3"
  },
  "language_info": {
   "codemirror_mode": {
    "name": "ipython",
    "version": 3
   },
   "file_extension": ".py",
   "mimetype": "text/x-python",
   "name": "python",
   "nbconvert_exporter": "python",
   "pygments_lexer": "ipython3",
   "version": "3.8.3"
  }
 },
 "nbformat": 4,
 "nbformat_minor": 4
}
